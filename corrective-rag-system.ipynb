{
  "cells": [
    {
      "cell_type": "markdown",
      "metadata": {
        "id": "A_fZFcme18vK"
      },
      "source": [
        "# Project 1 - Building an Agentic Corrective RAG System with LangGraph"
      ]
    },
    {
      "cell_type": "markdown",
      "metadata": {
        "id": "NYBpZTjLnEXb"
      },
      "source": [
        "This project will cover a full hands-on workflow and demonstration of how to build an Agentic Corrective RAG (CRAG) System with LangGraph\n",
        "\n",
        "The idea would be to implement the workflow taking inspiration from the [Corrective Retrieval Augmented Generation](https://arxiv.org/pdf/2401.15884) research paper.\n",
        "\n",
        "The main challenge of RAG systems include:\n",
        "\n",
        "- Poor Retrieval can lead to issues in LLM response generation\n",
        "- Bad retrieval or lack of information in the vector database can also lead to out of context or hallucinated answers\n",
        "\n",
        "The idea is to couple a RAG system with a few checks in place and perform web searches if there is a lack of relevant context documents to the given user query as follows:\n",
        "\n",
        "![](https://i.imgur.com/uhybMhT.png)\n"
      ]
    },
    {
      "cell_type": "markdown",
      "metadata": {
        "id": "aMX5MULw4JXP"
      },
      "source": [
        "We can build this as an agentic RAG system by having a specific functionality step as a node in the graph and use LangGraph to implement it. Key steps in the node will include prompts being sent to LLMs to perform specific tasks as seen in the detailed workflow below:\n",
        "\n",
        "![](https://i.imgur.com/eV87ZwX.gif)\n"
      ]
    },
    {
      "cell_type": "markdown",
      "metadata": {
        "id": "L1KvMtf54l0d"
      },
      "source": [
        "## Install OpenAI, and LangChain dependencies"
      ]
    },
    {
      "cell_type": "code",
      "execution_count": null,
      "metadata": {
        "colab": {
          "base_uri": "https://localhost:8080/"
        },
        "id": "2evPp14fy258",
        "outputId": "d9754d0a-1537-4686-fd22-41d40958029b"
      },
      "outputs": [],
      "source": [
        "# %pip install langchain==0.2.0\n",
        "# %pip install langchain-openai==0.1.7\n",
        "# %pip install langchain-community==0.2.0\n",
        "# %pip install langgraph==0.1.1\n",
        "# %pip install langchain-chroma==0.1.1\n",
        "\n",
        "%pip install langchain\n",
        "%pip install langchain-ollama\n",
        "%pip install langchain-community\n",
        "%pip install langgraph\n",
        "%pip install langchain-chroma"
      ]
    },
    {
      "cell_type": "code",
      "execution_count": null,
      "metadata": {},
      "outputs": [],
      "source": [
        "!curl -fsSL https://ollama.com/install.sh | sh\n",
        "!ollama pull gemma3n:e4b\n",
        "!ollama pull llama3.2\n",
        "!ollama pull nomic-embed-text"
      ]
    },
    {
      "cell_type": "markdown",
      "metadata": {
        "id": "ucWRRI3QztL2"
      },
      "source": [
        "## Enter Tavily Search API Key"
      ]
    },
    {
      "cell_type": "code",
      "execution_count": 1,
      "metadata": {
        "colab": {
          "base_uri": "https://localhost:8080/"
        },
        "id": "mK-1WLzOrJdb",
        "outputId": "a5f42501-4176-47c0-9d0e-fdc658c93ded"
      },
      "outputs": [],
      "source": [
        "from getpass import getpass\n",
        "\n",
        "TAVILY_API_KEY = getpass('Enter Tavily Search API Key: ')"
      ]
    },
    {
      "cell_type": "markdown",
      "metadata": {
        "id": "1T0s0um5Svfa"
      },
      "source": [
        "## Setup Environment Variables"
      ]
    },
    {
      "cell_type": "code",
      "execution_count": 2,
      "metadata": {
        "id": "x1YSuHNF_lbh"
      },
      "outputs": [],
      "source": [
        "import os\n",
        "\n",
        "os.environ['TAVILY_API_KEY'] = TAVILY_API_KEY"
      ]
    },
    {
      "cell_type": "markdown",
      "metadata": {
        "id": "M8nHAP7XOGOj"
      },
      "source": [
        "### Ollama Embedding Models\n",
        "\n",
        "LangChain enables us to access Ollama Embedding Models, like \"nomic-embed-text\" which is a lightweight and high-performance embedding model."
      ]
    },
    {
      "cell_type": "code",
      "execution_count": 3,
      "metadata": {
        "id": "jzrIVI2NAHC1"
      },
      "outputs": [],
      "source": [
        "from langchain_ollama import OllamaEmbeddings\n",
        "\n",
        "ollama_embed_model = OllamaEmbeddings(model='nomic-embed-text')"
      ]
    },
    {
      "cell_type": "markdown",
      "metadata": {
        "id": "4_ReSz-3PVwW"
      },
      "source": [
        "### Load and Chunk Documents"
      ]
    },
    {
      "cell_type": "code",
      "execution_count": null,
      "metadata": {
        "id": "WwLEBC4nF9ly"
      },
      "outputs": [],
      "source": [
        "import pdfplumber\n",
        "from langchain.docstore.document import Document\n",
        "from langchain.text_splitter import RecursiveCharacterTextSplitter\n",
        "\n",
        "# Path to your PDF file\n",
        "pdf_filepath = \"a-practical-guide-to-building-agents.pdf\"\n",
        "\n",
        "# Extract text from PDF\n",
        "docs = []\n",
        "with pdfplumber.open(pdf_filepath) as pdf:\n",
        "    full_text = \"\"\n",
        "    for page in pdf.pages:\n",
        "        full_text += page.extract_text() or \"\"  # Extract text from each page, handle None\n",
        "\n",
        "    # Create a single Document object with the full text\n",
        "    docs.append(Document(\n",
        "        page_content=full_text,\n",
        "        metadata={\n",
        "            'source': pdf_filepath,\n",
        "            'title': pdf_filepath.split('/')[-1]  # Use filename as title\n",
        "        }\n",
        "    ))\n",
        "\n",
        "# Chunk docs\n",
        "splitter = RecursiveCharacterTextSplitter(chunk_size=2000, chunk_overlap=300)\n",
        "chunked_docs = splitter.split_documents(docs)"
      ]
    },
    {
      "cell_type": "code",
      "execution_count": 5,
      "metadata": {
        "colab": {
          "base_uri": "https://localhost:8080/"
        },
        "id": "G4E1zYFSG7J-",
        "outputId": "fb061f6b-00f4-447d-a52d-3f09ce0850c0"
      },
      "outputs": [
        {
          "data": {
            "text/plain": [
              "21"
            ]
          },
          "execution_count": 5,
          "metadata": {},
          "output_type": "execute_result"
        }
      ],
      "source": [
        "len(chunked_docs)"
      ]
    },
    {
      "cell_type": "code",
      "execution_count": 6,
      "metadata": {
        "colab": {
          "base_uri": "https://localhost:8080/"
        },
        "id": "aSbhERAyGw0v",
        "outputId": "3a3984e7-0477-41d2-d858-f0977f87eac9"
      },
      "outputs": [
        {
          "data": {
            "text/plain": [
              "[Document(metadata={'source': 'a-practical-guide-to-building-agents.pdf', 'title': 'a-practical-guide-to-building-agents.pdf'}, page_content=\"A practical\\nguide to\\nbuilding agentsContents\\nWhat is an agent? 4\\nWhen should you build an agent? 5\\nAgent design foundations 7\\nGuardrails 24\\nConclusion 32\\n2 Practical guide to building agentsIntroduction\\nLarge language models are becoming increasingly capable of handling complex, multi-step tasks.\\nAdvances in reasoning, multimodality, and tool use have unlocked a new category of LLM-powered\\nsystems known as agents.\\n\\nThis guide is designed for product and engineering teams exploring how to build their first agents,\\ndistilling insights from numerous customer deployments into practical and actionable best\\npractices. It includes frameworks for identifying promising use cases, clear patterns for designing\\nagent logic and orchestration, and best practices to ensure your agents run safely, predictably,\\nand effectively.\\nAfter reading this guide, you’ll have the foundational knowledge you need to confidently start\\nbuilding your first agent.\\n3 A practical guide to building agentsWhat is an\\nagent?\\nWhile conventional software enables users to streamline and automate workflows, agents are able\\nto perform the same workflows on the users’ behalf with a high degree of independence.\\nAgents are systems that independently accomplish tasks on your behalf.\\nA workflow is a sequence of steps that must be executed to meet the user’s goal, whether that's\\nresolving a customer service issue, booking a restaurant reservation, committing a code change,\\nor generating a report.\\n\\nApplications that integrate LLMs but don’t use them to control workflow execution—think simple\\nchatbots, single-turn LLMs, or sentiment classifiers—are not agents.\"),\n",
              " Document(metadata={'source': 'a-practical-guide-to-building-agents.pdf', 'title': 'a-practical-guide-to-building-agents.pdf'}, page_content='Applications that integrate LLMs but don’t use them to control workflow execution—think simple\\nchatbots, single-turn LLMs, or sentiment classifiers—are not agents.\\n\\nMore concretely, an agent possesses core characteristics that allow it to act reliably and\\nconsistently on behalf of a user:\\n01 It leverages an LLM to manage workflow execution and make decisions. It recognizes\\nwhen a workflow is complete and can proactively correct its actions if needed. In case\\nof failure, it can halt execution and transfer control back to the user.\\n02 It has access to various tools to interact with external systems—both to gather context\\nand to take actions—and dynamically selects the appropriate tools depending on the\\nworkflow’s current state, always operating within clearly defined guardrails.\\n4 A practical guide to building agentsWhen should you\\nbuild an agent?\\nBuilding agents requires rethinking how your systems make decisions and handle complexity.\\nUnlike conventional automation, agents are uniquely suited to workflows where traditional\\ndeterministic and rule-based approaches fall short.'),\n",
              " Document(metadata={'source': 'a-practical-guide-to-building-agents.pdf', 'title': 'a-practical-guide-to-building-agents.pdf'}, page_content='Consider the example of payment fraud analysis. A traditional rules engine works like a checklist,\\nflagging transactions based on preset criteria. In contrast, an LLM agent functions more like a\\nseasoned investigator, evaluating context, considering subtle patterns, and identifying suspicious\\nactivity even when clear-cut rules aren’t violated. This nuanced reasoning capability is exactly what\\nenables agents to manage complex, ambiguous situations effectively.As you evaluate where agents can add value, prioritize workflows that have previously resisted\\nautomation, especially where traditional methods encounter friction:\\n01 Complex Workflows involving nuanced judgment, exceptions, or\\ndecision-making: context-sensitive decisions, for example refund approval\\nin customer service workflows.\\n02 Difficult-to-maintain Systems that have become unwieldy due to extensive and\\nrules: intricate rulesets, making updates costly or error-prone,\\nfor example performing vendor security reviews.\\n03 Heavy reliance on Scenarios that involve interpreting natural language,\\nunstructured data: extracting meaning from documents, or interacting with\\nusers conversationally, for example processing a home\\ninsurance claim.\\nBefore committing to building an agent, validate that your use case can meet these criteria clearly.\\nOtherwise, a deterministic solution may suffice.\\n6 A practical guide to building agentsAgent design\\nfoundations\\nIn its most fundamental form, an agent consists of three core components:\\n01 Model The LLM powering the agent’s reasoning and decision-making\\n02 Tools External functions or APIs the agent can use to take action\\n03 Instructions Explicit guidelines and guardrails defining how the\\nagent behaves\\nHere’s what this looks like in code when using OpenAI’s Agents SDK. You can also implement the\\nsame concepts using your preferred library or building directly from scratch.\\nPython\\n1\\n weather_agent = Agent(\\n\\n2\\n name=\"Weather agent\",')]"
            ]
          },
          "execution_count": 6,
          "metadata": {},
          "output_type": "execute_result"
        }
      ],
      "source": [
        "chunked_docs[:3]"
      ]
    },
    {
      "cell_type": "markdown",
      "metadata": {
        "id": "-PnV9lAXZw9a"
      },
      "source": [
        "### Create a Vector DB and persist on disk\n",
        "\n",
        "Here we initialize a connection to a Chroma vector DB client, and also we want to save to disk, so we simply initialize the Chroma client and pass the directory where we want the data to be saved to."
      ]
    },
    {
      "cell_type": "code",
      "execution_count": 7,
      "metadata": {
        "id": "kRYfcrsHUxyZ"
      },
      "outputs": [],
      "source": [
        "from langchain_chroma import Chroma\n",
        "\n",
        "# create vector DB of docs and embeddings - takes < 30s on Colab\n",
        "chroma_db = Chroma.from_documents(documents=chunked_docs,\n",
        "                                  collection_name='rag_agents_db',\n",
        "                                  embedding=ollama_embed_model,\n",
        "                                  # need to set the distance function to cosine else it uses euclidean by default\n",
        "                                  # check https://docs.trychroma.com/guides#changing-the-distance-function\n",
        "                                  collection_metadata={\"hnsw:space\": \"cosine\"},\n",
        "                                  persist_directory=\"./rag_agents_db\")"
      ]
    },
    {
      "cell_type": "markdown",
      "metadata": {
        "id": "bprZC4S6TLfj"
      },
      "source": [
        "### Setup a Vector Database Retriever\n",
        "\n",
        "Here we use the following retrieval strategy:\n",
        "\n",
        "- Similarity with Threshold Retrieval\n"
      ]
    },
    {
      "cell_type": "markdown",
      "metadata": {
        "id": "8foBD2xmCDYc"
      },
      "source": [
        "### Similarity with Threshold Retrieval\n",
        "\n",
        "We use cosine similarity here and retrieve the top 3 similar documents based on the user input query and also introduce a cutoff to not return any documents which are below a certain similarity threshold"
      ]
    },
    {
      "cell_type": "code",
      "execution_count": 8,
      "metadata": {
        "id": "6ROSNwqeCMRS"
      },
      "outputs": [],
      "source": [
        "similarity_threshold_retriever = chroma_db.as_retriever(search_type=\"similarity_score_threshold\",\n",
        "                                                        search_kwargs={\"k\": 3,\n",
        "                                                                       \"score_threshold\": 0.3})"
      ]
    },
    {
      "cell_type": "code",
      "execution_count": 9,
      "metadata": {
        "colab": {
          "base_uri": "https://localhost:8080/"
        },
        "id": "Nv93k_QpCZv7",
        "outputId": "4c9f5f42-639f-4e7f-8c1a-c8f8dd63087b"
      },
      "outputs": [
        {
          "data": {
            "text/plain": [
              "[Document(metadata={'source': 'a-practical-guide-to-building-agents.pdf', 'title': 'a-practical-guide-to-building-agents.pdf'}, page_content=\"A practical\\nguide to\\nbuilding agentsContents\\nWhat is an agent? 4\\nWhen should you build an agent? 5\\nAgent design foundations 7\\nGuardrails 24\\nConclusion 32\\n2 Practical guide to building agentsIntroduction\\nLarge language models are becoming increasingly capable of handling complex, multi-step tasks.\\nAdvances in reasoning, multimodality, and tool use have unlocked a new category of LLM-powered\\nsystems known as agents.\\n\\nThis guide is designed for product and engineering teams exploring how to build their first agents,\\ndistilling insights from numerous customer deployments into practical and actionable best\\npractices. It includes frameworks for identifying promising use cases, clear patterns for designing\\nagent logic and orchestration, and best practices to ensure your agents run safely, predictably,\\nand effectively.\\nAfter reading this guide, you’ll have the foundational knowledge you need to confidently start\\nbuilding your first agent.\\n3 A practical guide to building agentsWhat is an\\nagent?\\nWhile conventional software enables users to streamline and automate workflows, agents are able\\nto perform the same workflows on the users’ behalf with a high degree of independence.\\nAgents are systems that independently accomplish tasks on your behalf.\\nA workflow is a sequence of steps that must be executed to meet the user’s goal, whether that's\\nresolving a customer service issue, booking a restaurant reservation, committing a code change,\\nor generating a report.\\n\\nApplications that integrate LLMs but don’t use them to control workflow execution—think simple\\nchatbots, single-turn LLMs, or sentiment classifiers—are not agents.\"),\n",
              " Document(metadata={'source': 'a-practical-guide-to-building-agents.pdf', 'title': 'a-practical-guide-to-building-agents.pdf'}, page_content='Each tool should have a standardized definition, enabling flexible, many-to-many relationships\\nbetween tools and agents. Well-documented, thoroughly tested, and reusable tools improve\\ndiscoverability, simplify version management, and prevent redundant definitions.\\n\\nBroadly speaking, agents need three types of tools:\\nType Description Examples\\nData Enable agents to retrieve context and Query transaction databases or\\ninformation necessary for executing systems like CRMs, read PDF\\nthe workflow. documents, or search the web.\\nAction Enable agents to interact with Send emails and texts, update a CRM\\nsystems to take actions such as record, hand-off a customer service\\nadding new information to ticket to a human.\\ndatabases, updating records, or\\nsending messages.\\nOrchestration Agents themselves can serve as tools Refund agent, Research agent,\\nfor other agents—see the Manager Writing agent.\\nPattern in the Orchestration section.\\n9 A practical guide to building agentsFor example, here’s how you would equip the agent defined above with a series of tools when using\\nthe Agents SDK:\\nPython\\n1\\n from agents import Agent, WebSearchTool, function_tool\\n\\n2\\n @function_tool\\n\\n3\\n def save_results(output):\\n\\n4\\n db.insert({\"output\": output,\"timestamp\": datetime.time()})\\n\\n5\\n return \"File saved\"\\n\\n\\n6\\n\\n7\\n search_agent = Agent(\\n\\n8\\n name=\"Search agent\",\\n\\n8\\n instructions=\"Help the user search the internet and save results if\\n10\\n asked.\",\\n\\n11\\n tools=[WebSearchTool(),save_results],'),\n",
              " Document(metadata={'source': 'a-practical-guide-to-building-agents.pdf', 'title': 'a-practical-guide-to-building-agents.pdf'}, page_content='Applications that integrate LLMs but don’t use them to control workflow execution—think simple\\nchatbots, single-turn LLMs, or sentiment classifiers—are not agents.\\n\\nMore concretely, an agent possesses core characteristics that allow it to act reliably and\\nconsistently on behalf of a user:\\n01 It leverages an LLM to manage workflow execution and make decisions. It recognizes\\nwhen a workflow is complete and can proactively correct its actions if needed. In case\\nof failure, it can halt execution and transfer control back to the user.\\n02 It has access to various tools to interact with external systems—both to gather context\\nand to take actions—and dynamically selects the appropriate tools depending on the\\nworkflow’s current state, always operating within clearly defined guardrails.\\n4 A practical guide to building agentsWhen should you\\nbuild an agent?\\nBuilding agents requires rethinking how your systems make decisions and handle complexity.\\nUnlike conventional automation, agents are uniquely suited to workflows where traditional\\ndeterministic and rule-based approaches fall short.')]"
            ]
          },
          "execution_count": 9,
          "metadata": {},
          "output_type": "execute_result"
        }
      ],
      "source": [
        "query = \"what is an agent?\"\n",
        "top3_docs = similarity_threshold_retriever.invoke(query)\n",
        "top3_docs"
      ]
    },
    {
      "cell_type": "code",
      "execution_count": 10,
      "metadata": {
        "colab": {
          "base_uri": "https://localhost:8080/"
        },
        "id": "obsI3yKOO0KL",
        "outputId": "8e0637f1-a7c0-4ee4-8e4b-6abbd32b892f"
      },
      "outputs": [
        {
          "data": {
            "text/plain": [
              "[Document(metadata={'source': 'a-practical-guide-to-building-agents.pdf', 'title': 'a-practical-guide-to-building-agents.pdf'}, page_content=\"A practical\\nguide to\\nbuilding agentsContents\\nWhat is an agent? 4\\nWhen should you build an agent? 5\\nAgent design foundations 7\\nGuardrails 24\\nConclusion 32\\n2 Practical guide to building agentsIntroduction\\nLarge language models are becoming increasingly capable of handling complex, multi-step tasks.\\nAdvances in reasoning, multimodality, and tool use have unlocked a new category of LLM-powered\\nsystems known as agents.\\n\\nThis guide is designed for product and engineering teams exploring how to build their first agents,\\ndistilling insights from numerous customer deployments into practical and actionable best\\npractices. It includes frameworks for identifying promising use cases, clear patterns for designing\\nagent logic and orchestration, and best practices to ensure your agents run safely, predictably,\\nand effectively.\\nAfter reading this guide, you’ll have the foundational knowledge you need to confidently start\\nbuilding your first agent.\\n3 A practical guide to building agentsWhat is an\\nagent?\\nWhile conventional software enables users to streamline and automate workflows, agents are able\\nto perform the same workflows on the users’ behalf with a high degree of independence.\\nAgents are systems that independently accomplish tasks on your behalf.\\nA workflow is a sequence of steps that must be executed to meet the user’s goal, whether that's\\nresolving a customer service issue, booking a restaurant reservation, committing a code change,\\nor generating a report.\\n\\nApplications that integrate LLMs but don’t use them to control workflow execution—think simple\\nchatbots, single-turn LLMs, or sentiment classifiers—are not agents.\"),\n",
              " Document(metadata={'source': 'a-practical-guide-to-building-agents.pdf', 'title': 'a-practical-guide-to-building-agents.pdf'}, page_content='2\\n name=\"Weather agent\",\\n\\n3\\n instructions=\"You are a helpful agent who can talk to users about the\\n4\\n weather.\",\\n\\n5\\n tools=[get_weather],\\n\\n6 )\\n7 A practical guide to building agentsSelecting your models\\nDifferent models have different strengths and tradeoffs related to task complexity, latency, and\\ncost. As we’ll see in the next section on Orchestration, you might want to consider using a variety\\nof models for different tasks in the workflow.\\n\\nNot every task requires the smartest model—a simple retrieval or intent classification task may be\\nhandled by a smaller, faster model, while harder tasks like deciding whether to approve a refund\\nmay benefit from a more capable model.\\n\\nAn approach that works well is to build your agent prototype with the most capable model for\\nevery task to establish a performance baseline. From there, try swapping in smaller models to see\\nif they still achieve acceptable results. This way, you don’t prematurely limit the agent’s abilities,\\nand you can diagnose where smaller models succeed or fail.\\nIn summary, the principles for choosing a model are simple:\\n01 Set up evals to establish a performance baseline\\n02 Focus on meeting your accuracy target with the best models available\\n03 Optimize for cost and latency by replacing larger models with smaller ones\\nwhere possible\\nYou can find a comprehensive guide to selecting OpenAI models here.\\n8 A practical guide to building agentsDefining tools\\nTools extend your agent’s capabilities by using APIs from underlying applications or systems. For\\nlegacy systems without APIs, agents can rely on computer-use models to interact directly with\\nthose applications and systems through web and application UIs—just as a human would.\\n\\nEach tool should have a standardized definition, enabling flexible, many-to-many relationships\\nbetween tools and agents. Well-documented, thoroughly tested, and reusable tools improve\\ndiscoverability, simplify version management, and prevent redundant definitions.'),\n",
              " Document(metadata={'source': 'a-practical-guide-to-building-agents.pdf', 'title': 'a-practical-guide-to-building-agents.pdf'}, page_content='Each tool should have a standardized definition, enabling flexible, many-to-many relationships\\nbetween tools and agents. Well-documented, thoroughly tested, and reusable tools improve\\ndiscoverability, simplify version management, and prevent redundant definitions.\\n\\nBroadly speaking, agents need three types of tools:\\nType Description Examples\\nData Enable agents to retrieve context and Query transaction databases or\\ninformation necessary for executing systems like CRMs, read PDF\\nthe workflow. documents, or search the web.\\nAction Enable agents to interact with Send emails and texts, update a CRM\\nsystems to take actions such as record, hand-off a customer service\\nadding new information to ticket to a human.\\ndatabases, updating records, or\\nsending messages.\\nOrchestration Agents themselves can serve as tools Refund agent, Research agent,\\nfor other agents—see the Manager Writing agent.\\nPattern in the Orchestration section.\\n9 A practical guide to building agentsFor example, here’s how you would equip the agent defined above with a series of tools when using\\nthe Agents SDK:\\nPython\\n1\\n from agents import Agent, WebSearchTool, function_tool\\n\\n2\\n @function_tool\\n\\n3\\n def save_results(output):\\n\\n4\\n db.insert({\"output\": output,\"timestamp\": datetime.time()})\\n\\n5\\n return \"File saved\"\\n\\n\\n6\\n\\n7\\n search_agent = Agent(\\n\\n8\\n name=\"Search agent\",\\n\\n8\\n instructions=\"Help the user search the internet and save results if\\n10\\n asked.\",\\n\\n11\\n tools=[WebSearchTool(),save_results],')]"
            ]
          },
          "execution_count": 10,
          "metadata": {},
          "output_type": "execute_result"
        }
      ],
      "source": [
        "query = \"when to build an agent?\"\n",
        "top3_docs = similarity_threshold_retriever.invoke(query)\n",
        "top3_docs"
      ]
    },
    {
      "cell_type": "markdown",
      "metadata": {
        "id": "RXeilff0c9X5"
      },
      "source": [
        "## Create a Query Retrieval Grader\n",
        "\n",
        "Here we will use an LLM itself to grade if any retrieved document is relevant to the given question - Answer will be either `yes` or `no`"
      ]
    },
    {
      "cell_type": "code",
      "execution_count": null,
      "metadata": {
        "id": "ubFlSqlMSU99"
      },
      "outputs": [],
      "source": [
        "from langchain_core.prompts import ChatPromptTemplate\n",
        "from langchain_core.pydantic_v1 import BaseModel, Field\n",
        "from langchain_ollama import ChatOllama\n",
        "\n",
        "\n",
        "# Data model for LLM output format\n",
        "class GradeDocuments(BaseModel):\n",
        "    \"\"\"Binary score for relevance check on retrieved documents.\"\"\"\n",
        "    binary_score: str = Field(\n",
        "        description=\"Documents are relevant to the question, 'yes' or 'no'\"\n",
        "    )\n",
        "\n",
        "\n",
        "# LLM for grading\n",
        "llm = ChatOllama(model=\"llama3.2\", temperature=0)\n",
        "structured_llm_grader = llm.with_structured_output(GradeDocuments)\n",
        "\n",
        "# Prompt template for grading\n",
        "SYS_PROMPT = \"\"\"You are an expert grader assessing relevance of a retrieved document to a user question.\n",
        "                Follow these instructions for grading:\n",
        "                  - If the document contains keyword(s) or semantic meaning related to the question, grade it as relevant.\n",
        "                  - Your grade should be either 'yes' or 'no' to indicate whether the document is relevant to the question or not.\n",
        "             \"\"\"\n",
        "grade_prompt = ChatPromptTemplate.from_messages(\n",
        "    [\n",
        "        (\"system\", SYS_PROMPT),\n",
        "        (\"human\", \"\"\"Retrieved document:\n",
        "                     {document}\n",
        "\n",
        "                     User question:\n",
        "                     {question}\n",
        "                  \"\"\"),\n",
        "    ]\n",
        ")\n",
        "\n",
        "# Build grader chain\n",
        "doc_grader = (grade_prompt\n",
        "                  |\n",
        "              structured_llm_grader)"
      ]
    },
    {
      "cell_type": "code",
      "execution_count": null,
      "metadata": {
        "colab": {
          "base_uri": "https://localhost:8080/"
        },
        "id": "UuiAlPIbaC0W",
        "outputId": "2e91a691-3e9e-44cd-d47d-d7160803ffcb"
      },
      "outputs": [],
      "source": [
        "query = \"what is an agent?\"\n",
        "top3_docs = similarity_threshold_retriever.invoke(query)\n",
        "for doc in top3_docs:\n",
        "    print(doc.page_content)\n",
        "    print('GRADE:', doc_grader.invoke({\"question\": query, \"document\": doc.page_content}))\n",
        "    print()"
      ]
    },
    {
      "cell_type": "code",
      "execution_count": null,
      "metadata": {
        "colab": {
          "base_uri": "https://localhost:8080/"
        },
        "id": "9YNBjaO4ahnF",
        "outputId": "c81679e7-10e9-491a-eba6-7ebf93a5d321"
      },
      "outputs": [],
      "source": [
        "query = \"when to build an agent?\"\n",
        "top3_docs = similarity_threshold_retriever.invoke(query)\n",
        "for doc in top3_docs:\n",
        "    print(doc.page_content)\n",
        "    print('GRADE:', doc_grader.invoke({\"question\": query, \"document\": doc.page_content}))\n",
        "    print()"
      ]
    },
    {
      "cell_type": "markdown",
      "metadata": {
        "id": "Bfn4Z4Em55bb"
      },
      "source": [
        "## Build a QA RAG Chain\n",
        "\n",
        "We will now connect our retriever to an LLM and build our QA RAG Chain"
      ]
    },
    {
      "cell_type": "code",
      "execution_count": 12,
      "metadata": {
        "id": "8Pu5U9HNkl-q"
      },
      "outputs": [],
      "source": [
        "from langchain_core.prompts import ChatPromptTemplate\n",
        "from langchain_ollama import ChatOllama\n",
        "from langchain_core.runnables import RunnableLambda\n",
        "from langchain_core.output_parsers import StrOutputParser\n",
        "from operator import itemgetter\n",
        "\n",
        "# Create RAG prompt for response generation\n",
        "prompt = \"\"\"You are an assistant for question-answering tasks.\n",
        "            Use the following pieces of retrieved context to answer the question.\n",
        "            If no context is present or if you don't know the answer, just say that you don't know the answer.\n",
        "            Do not make up the answer unless it is there in the provided context.\n",
        "            Give a detailed answer and to the point answer with regard to the question.\n",
        "\n",
        "            Question:\n",
        "            {question}\n",
        "\n",
        "            Context:\n",
        "            {context}\n",
        "\n",
        "            Answer:\n",
        "         \"\"\"\n",
        "prompt_template = ChatPromptTemplate.from_template(prompt)\n",
        "\n",
        "# Initialize connection with GPT-4o\n",
        "model = ChatOllama(model=\"gemma3n:e4b\", temperature=0)\n",
        "# Used for separating context docs with new lines\n",
        "def format_docs(docs):\n",
        "    return \"\\n\\n\".join(doc.page_content for doc in docs)\n",
        "\n",
        "# create QA RAG chain\n",
        "qa_rag_chain = (\n",
        "    {\n",
        "        \"context\": (itemgetter('context')\n",
        "                        |\n",
        "                    RunnableLambda(format_docs)),\n",
        "        \"question\": itemgetter('question')\n",
        "    }\n",
        "      |\n",
        "    prompt_template\n",
        "      |\n",
        "    model\n",
        "      |\n",
        "    StrOutputParser()\n",
        ")"
      ]
    },
    {
      "cell_type": "code",
      "execution_count": 56,
      "metadata": {
        "colab": {
          "base_uri": "https://localhost:8080/"
        },
        "id": "9Wj-MZr2eEq8",
        "outputId": "aa55c8bd-eeda-4721-d915-f29b0937ead2"
      },
      "outputs": [
        {
          "name": "stdout",
          "output_type": "stream",
          "text": [
            "An agent is a system that independently accomplishes tasks on your behalf. Unlike conventional software that streamlines and automates workflows for users, agents can perform the same workflows on the user's behalf with a high degree of independence. \n",
            "\n",
            "Here are the core characteristics of an agent:\n",
            "\n",
            "*   **Leverages an LLM:** It uses a large language model to manage workflow execution and make decisions.\n",
            "*   **Workflow Management:** It recognizes when a workflow is complete and can proactively correct its actions if needed. In case of failure, it can halt execution and transfer control back to the user.\n",
            "*   **Tool Access:** It has access to various tools to interact with external systems, both to gather context and to take actions. It dynamically selects the appropriate tools based on the workflow's current state, always operating within clearly defined guardrails.\n",
            "\n",
            "In essence, agents are well-suited for workflows where traditional deterministic and rule-based approaches are insufficient.\n"
          ]
        }
      ],
      "source": [
        "query = \"what is an agent?\"\n",
        "top3_docs = similarity_threshold_retriever.invoke(query)\n",
        "result = qa_rag_chain.invoke(\n",
        "    {\"context\": top3_docs, \"question\": query}\n",
        ")\n",
        "print(result)"
      ]
    },
    {
      "cell_type": "code",
      "execution_count": 57,
      "metadata": {
        "colab": {
          "base_uri": "https://localhost:8080/"
        },
        "id": "i_BK5xvbeYmz",
        "outputId": "9cf3532b-8c12-49c3-a85a-73a0fd2b935e"
      },
      "outputs": [
        {
          "name": "stdout",
          "output_type": "stream",
          "text": [
            "According to the provided context, you should build an agent when you need a system that can independently accomplish tasks on your behalf. This is particularly useful for workflows that require a sequence of steps to achieve a user's goal, such as resolving customer service issues, booking reservations, or generating reports. \n",
            "\n",
            "The context also suggests building an agent when you want to automate complex, multi-step tasks that leverage the capabilities of large language models (LLMs) for reasoning, multimodal understanding, and tool use. \n",
            "\n",
            "In essence, build an agent when you want to automate workflows and tasks that require independent decision-making and action, going beyond simple chatbots or single-turn LLM applications.\n"
          ]
        }
      ],
      "source": [
        "query = \"when to build an agent?\"\n",
        "top3_docs = similarity_threshold_retriever.invoke(query)\n",
        "result = qa_rag_chain.invoke(\n",
        "    {\"context\": top3_docs, \"question\": query}\n",
        ")\n",
        "print(result)"
      ]
    },
    {
      "cell_type": "markdown",
      "metadata": {
        "id": "-Fp8Eh0x5bMY"
      },
      "source": [
        "## Create a Query Rephraser\n",
        "\n",
        "We will now build a query rephraser which will use an LLM to rephrase the input user query into a better version which is optimized for web search"
      ]
    },
    {
      "cell_type": "code",
      "execution_count": 13,
      "metadata": {
        "id": "Mm7T22tmfYWj"
      },
      "outputs": [],
      "source": [
        "# LLM for question rewriting\n",
        "llm = ChatOllama(model=\"llama3.2\", temperature=0)\n",
        "\n",
        "# Prompt template for rewriting\n",
        "SYS_PROMPT = \"\"\"Act as a question re-writer and perform the following task:\n",
        "                 - Convert the following input question to a better version that is optimized for web search.\n",
        "                 - When re-writing, look at the input question and try to reason about the underlying semantic intent / meaning.\n",
        "             \"\"\"\n",
        "re_write_prompt = ChatPromptTemplate.from_messages(\n",
        "    [\n",
        "        (\"system\", SYS_PROMPT),\n",
        "        (\"human\", \"\"\"Here is the initial question:\n",
        "                     {question}\n",
        "\n",
        "                     Formulate an improved question.\n",
        "                  \"\"\",\n",
        "        ),\n",
        "    ]\n",
        ")\n",
        "# Create rephraser chain\n",
        "question_rewriter = (re_write_prompt\n",
        "                        |\n",
        "                       llm\n",
        "                        |\n",
        "                     StrOutputParser())"
      ]
    },
    {
      "cell_type": "code",
      "execution_count": 59,
      "metadata": {
        "colab": {
          "base_uri": "https://localhost:8080/",
          "height": 35
        },
        "id": "2bGCpLKzhTUr",
        "outputId": "d0af00d5-70ae-4390-85c3-47bb60ac4cd2"
      },
      "outputs": [
        {
          "data": {
            "text/plain": [
              "'## Improved Question:\\n\\n**\"What are the fundamental principles and design patterns in agent-based systems?\"**\\n\\n## Reasoning for Improvement:\\n\\nThe original question \"what are agent design foundations?\" is quite vague. While understandable, it\\'s not the kind of query someone would typically use when searching online. \\n\\nHere\\'s a breakdown of why the revised question is better for web search:\\n\\n* **More Specific Keywords:**  Instead of just \"foundations,\" the revised question uses more specific and commonly used terms like \"fundamental principles\" and \"design patterns.\" These are terms developers and researchers are likely to use when searching for information on agent design.\\n* **Clarifies the Context:**  Adding \"agent-based systems\" clarifies the domain.  It removes ambiguity and ensures the search results are focused on the intended topic.\\n* **Action-Oriented:** The question implies a desire to understand *how* agent systems are designed, which is a more actionable intent than simply asking \"what are the foundations.\"\\n* **Better for Search Algorithms:** Search engines are better at matching queries with specific keywords and phrases. The revised question provides more of this.\\n\\n\\n\\n'"
            ]
          },
          "execution_count": 59,
          "metadata": {},
          "output_type": "execute_result"
        }
      ],
      "source": [
        "query = \"what are agent design foundations?\"\n",
        "question_rewriter.invoke({\"question\": query})"
      ]
    },
    {
      "cell_type": "markdown",
      "metadata": {
        "id": "howf-v0ARWbv"
      },
      "source": [
        "## Load Web Search Tool\n",
        "\n",
        "Here we will be using the [Tavily API](https://tavily.com/#api) for our web searches"
      ]
    },
    {
      "cell_type": "code",
      "execution_count": 14,
      "metadata": {
        "id": "Ue8xgu9WpuPi"
      },
      "outputs": [],
      "source": [
        "from langchain_community.tools.tavily_search import TavilySearchResults\n",
        "\n",
        "tv_search = TavilySearchResults(max_results=3, search_depth='advanced',\n",
        "                                max_tokens=10000)"
      ]
    },
    {
      "cell_type": "markdown",
      "metadata": {
        "id": "D2N5192vikJR"
      },
      "source": [
        "## Build Agentic RAG components\n",
        "\n",
        "Here we will build the key components of our Agentic Corrective RAG System as per the workflow below:\n",
        "\n",
        "![](https://i.imgur.com/uhybMhT.png)\n",
        "\n"
      ]
    },
    {
      "cell_type": "markdown",
      "metadata": {
        "id": "U5tUXzqPsbQi"
      },
      "source": [
        "### Graph State\n",
        "\n",
        "Used to store and represent the state of the agent graph as we traverse through various nodes"
      ]
    },
    {
      "cell_type": "code",
      "execution_count": 15,
      "metadata": {
        "id": "_B2EFrwTpuXB"
      },
      "outputs": [],
      "source": [
        "from typing import List\n",
        "from typing_extensions import TypedDict\n",
        "\n",
        "class GraphState(TypedDict):\n",
        "    \"\"\"\n",
        "    Represents the state of our graph.\n",
        "\n",
        "    Attributes:\n",
        "        question: question\n",
        "        generation: LLM response generation\n",
        "        web_search_needed: flag of whether to add web search - yes or no\n",
        "        documents: list of context documents\n",
        "    \"\"\"\n",
        "\n",
        "    question: str\n",
        "    generation: str\n",
        "    web_search_needed: str\n",
        "    documents: List[str]"
      ]
    },
    {
      "cell_type": "markdown",
      "metadata": {
        "id": "qXfVLhOWtHJJ"
      },
      "source": [
        "### Retrieve function for retrieval from Vector DB\n",
        "\n",
        "This will be used to get relevant context documents from the vector database"
      ]
    },
    {
      "cell_type": "code",
      "execution_count": null,
      "metadata": {
        "id": "W0rVVBGDpuYw"
      },
      "outputs": [],
      "source": [
        "# Define other nodes (simplified for demonstration)\n",
        "\n",
        "def retrieve(state: GraphState) -> GraphState:\n",
        "    print(\"---RETRIEVAL FROM VECTOR DB---\")\n",
        "    question = state[\"question\"]\n",
        "    documents = similarity_threshold_retriever.invoke(question)\n",
        "    return {\"documents\": documents, \"question\": question, \"web_search_needed\": \"No\"}"
      ]
    },
    {
      "cell_type": "markdown",
      "metadata": {
        "id": "lpOsUnzn6Yo1"
      },
      "source": [
        "### Grade documents\n",
        "\n",
        "This will be used to determine whether the retrieved documents are relevant to the question by using an LLM Grader\n",
        "\n",
        "Sets the `web_search_needed` flag as `Yes` if at least one document is not contextually relevant and sets it as `No` if all documents are contextually relevant to the given user query"
      ]
    },
    {
      "cell_type": "code",
      "execution_count": null,
      "metadata": {
        "id": "NI20nh1DtTwJ"
      },
      "outputs": [],
      "source": [
        "# Define grade documents node with web_search_needed update\n",
        "\n",
        "def grade_documents(state: GraphState) -> GraphState:\n",
        "    print(\"---CHECK DOCUMENT RELEVANCE TO QUESTION---\")\n",
        "    question = state[\"question\"]\n",
        "    documents = state[\"documents\"]\n",
        "    filtered_docs = []\n",
        "    web_search_needed = \"No\"\n",
        "\n",
        "    if documents:\n",
        "        for d in documents:\n",
        "            score = doc_grader.invoke(\n",
        "                {\"question\": question, \"document\": documents}\n",
        "            )\n",
        "            grade = score.binary_score  # Get the grade as 'yes' or 'no'\n",
        "            if grade == \"yes\":\n",
        "                print(\"---GRADE: DOCUMENT RELEVANT---\")\n",
        "                filtered_docs.append(d)\n",
        "            else:\n",
        "                print(\"---GRADE: DOCUMENT NOT RELEVANT---\")\n",
        "                web_search_needed = \"Yes\"\n",
        "                continue\n",
        "    else:\n",
        "        print(\"---NO DOCUMENTS RETRIEVED---\")\n",
        "        web_search_needed = \"Yes\"\n",
        "\n",
        "    return {\"documents\": filtered_docs, \"question\": question, \"web_search_needed\": web_search_needed}"
      ]
    },
    {
      "cell_type": "markdown",
      "metadata": {
        "id": "fj1jk8C16hhE"
      },
      "source": [
        "### Rewrite query\n",
        "\n",
        "This will be used to rewrite the input query to produce a better question optimized for web search using an LLM"
      ]
    },
    {
      "cell_type": "code",
      "execution_count": null,
      "metadata": {
        "id": "Xw_iVhvWuSG-"
      },
      "outputs": [],
      "source": [
        "# Define query rewrite node\n",
        "def rewrite_query(state: GraphState) -> GraphState:\n",
        "    print(\"---REWRITE QUERY---\")\n",
        "    question = state[\"question\"]\n",
        "    # Mock query rewrite\n",
        "    rewritten_question = f\"rephrased {question}\"\n",
        "    return {\"question\": rewritten_question, \"documents\": state[\"documents\"], \"web_search_needed\": \"Yes\"}"
      ]
    },
    {
      "cell_type": "markdown",
      "metadata": {
        "id": "HMogEnhT7Icn"
      },
      "source": [
        "### Web Search\n",
        "\n",
        "This will be used to search the web using the web search tool for the given query and retrieve some information which can be used as the context in RAG"
      ]
    },
    {
      "cell_type": "code",
      "execution_count": 19,
      "metadata": {
        "id": "YM7f6AyCvUP_"
      },
      "outputs": [],
      "source": [
        "from langchain.schema import Document\n",
        "\n",
        "# Define the web search node\n",
        "def web_search(state: GraphState) -> GraphState:\n",
        "    print(\"---WEB SEARCH---\")\n",
        "    question = state[\"question\"]\n",
        "    documents = state.get(\"documents\", [])\n",
        "\n",
        "    # Perform web search\n",
        "    search_results = tv_search.invoke(question)\n",
        "\n",
        "    # Handle search results\n",
        "    if isinstance(search_results, str):\n",
        "        web_results = Document(page_content=search_results)\n",
        "    else:\n",
        "        try:\n",
        "            web_results = \"\\n\\n\".join([d[\"content\"] for d in search_results])\n",
        "            web_results = Document(page_content=web_results)\n",
        "        except (TypeError, KeyError):\n",
        "            web_results = Document(page_content=\"No relevant web results found.\")\n",
        "\n",
        "    documents.append(web_results)\n",
        "    return {\"documents\": documents, \"question\": question, \"web_search_needed\": \"Yes\"}"
      ]
    },
    {
      "cell_type": "markdown",
      "metadata": {
        "id": "ruTBxSkm7R2R"
      },
      "source": [
        "### Generate Answer\n",
        "\n",
        "Standard LLM Response generation from query and context documents in a RAG system"
      ]
    },
    {
      "cell_type": "code",
      "execution_count": null,
      "metadata": {
        "id": "MemqMTolwLhA"
      },
      "outputs": [],
      "source": [
        "def generate(state: GraphState) -> GraphState:\n",
        "    print(\"---GENERATE ANSWER---\")\n",
        "    question = state[\"question\"]\n",
        "    documents = state[\"documents\"]\n",
        "    \n",
        "    generation = qa_rag_chain.invoke({\"context\": documents, \"question\": question})\n",
        "    return {\"generation\": generation, \"question\": question, \"documents\": documents, \"web_search_needed\": state[\"web_search_needed\"]}"
      ]
    },
    {
      "cell_type": "markdown",
      "metadata": {
        "id": "-9zcEgiu8HRY"
      },
      "source": [
        "### Decide to Generate\n",
        "\n",
        "This will be used as a conditional function which will check the `web_search_needed` flag and decide if a web search is needed or a response should be generated and return the function name to be called"
      ]
    },
    {
      "cell_type": "code",
      "execution_count": 21,
      "metadata": {
        "id": "Zi3GzDLRv3Nf"
      },
      "outputs": [],
      "source": [
        "def decide_to_generate(state):\n",
        "    \"\"\"\n",
        "    Determines whether to generate an answer, or re-generate a question.\n",
        "\n",
        "    Args:\n",
        "        state (dict): The current graph state\n",
        "\n",
        "    Returns:\n",
        "        str: Binary decision for next node to call\n",
        "    \"\"\"\n",
        "\n",
        "    print(\"---ASSESS GRADED DOCUMENTS---\")\n",
        "    web_search_needed = state[\"web_search_needed\"]\n",
        "\n",
        "    if web_search_needed == \"Yes\":\n",
        "        # All documents have been filtered check_relevance\n",
        "        # We will re-generate a new query\n",
        "        print(\"---DECISION: SOME or ALL DOCUMENTS ARE NOT RELEVANT TO QUESTION, REWRITE QUERY---\")\n",
        "        return \"rewrite_query\"\n",
        "    else:\n",
        "        # We have relevant documents, so generate answer\n",
        "        print(\"---DECISION: GENERATE RESPONSE---\")\n",
        "        return \"generate_answer\""
      ]
    },
    {
      "cell_type": "markdown",
      "metadata": {
        "id": "EpjPx4v89BVV"
      },
      "source": [
        "### Build the Agent Graph\n",
        "\n",
        "Here we will use LangGraph and build the agent as a graph"
      ]
    },
    {
      "cell_type": "code",
      "execution_count": 22,
      "metadata": {
        "id": "F24b6qm_yhnE"
      },
      "outputs": [],
      "source": [
        "from langgraph.graph import END, StateGraph\n",
        "\n",
        "agentic_rag = StateGraph(GraphState)\n",
        "\n",
        "# Define the nodes\n",
        "agentic_rag.add_node(\"retrieve\", retrieve)  # retrieve\n",
        "agentic_rag.add_node(\"grade_documents\", grade_documents)  # grade documents\n",
        "agentic_rag.add_node(\"rewrite_query\", rewrite_query)  # transform_query\n",
        "agentic_rag.add_node(\"web_search\", web_search)  # web search\n",
        "agentic_rag.add_node(\"generate_answer\", generate)  # generate answer\n",
        "\n",
        "# Build graph\n",
        "agentic_rag.set_entry_point(\"retrieve\")\n",
        "agentic_rag.add_edge(\"retrieve\", \"grade_documents\")\n",
        "agentic_rag.add_conditional_edges(\n",
        "    \"grade_documents\",\n",
        "    decide_to_generate,\n",
        "    {\"rewrite_query\": \"rewrite_query\", \"generate_answer\": \"generate_answer\"},\n",
        ")\n",
        "agentic_rag.add_edge(\"rewrite_query\", \"web_search\")\n",
        "agentic_rag.add_edge(\"web_search\", \"generate_answer\")\n",
        "agentic_rag.add_edge(\"generate_answer\", END)\n",
        "\n",
        "# Compile\n",
        "agentic_rag = agentic_rag.compile()"
      ]
    },
    {
      "cell_type": "code",
      "execution_count": 23,
      "metadata": {
        "colab": {
          "base_uri": "https://localhost:8080/",
          "height": 571
        },
        "id": "X3D6GCcN0ElZ",
        "outputId": "2ae40589-1a90-408f-e604-c7d71f075934"
      },
      "outputs": [
        {
          "data": {
            "image/png": "[encoded data removed]",
            "text/plain": [
              "<IPython.core.display.Image object>"
            ]
          },
          "metadata": {},
          "output_type": "display_data"
        }
      ],
      "source": [
        "from IPython.display import Image, display, Markdown\n",
        "\n",
        "display(Image(agentic_rag.get_graph().draw_mermaid_png()))"
      ]
    },
    {
      "cell_type": "markdown",
      "metadata": {
        "id": "pXW3yX7s9MMY"
      },
      "source": [
        "## Test the Agentic CRAG System"
      ]
    },
    {
      "cell_type": "code",
      "execution_count": 24,
      "metadata": {
        "colab": {
          "base_uri": "https://localhost:8080/"
        },
        "id": "tgny4kCM0OrS",
        "outputId": "adcb8a9b-bf36-41eb-f9e5-cebbbba5c191"
      },
      "outputs": [
        {
          "name": "stdout",
          "output_type": "stream",
          "text": [
            "---RETRIEVAL FROM VECTOR DB---\n",
            "---CHECK DOCUMENT RELEVANCE TO QUESTION---\n"
          ]
        },
        {
          "name": "stdout",
          "output_type": "stream",
          "text": [
            "---GRADE: DOCUMENT RELEVANT---\n",
            "---GRADE: DOCUMENT RELEVANT---\n",
            "---GRADE: DOCUMENT RELEVANT---\n",
            "---ASSESS GRADED DOCUMENTS---\n",
            "---DECISION: GENERATE RESPONSE---\n",
            "---GENERATE ANSWER---\n"
          ]
        }
      ],
      "source": [
        "query = \"what is an agent?\"\n",
        "response = agentic_rag.invoke({\"question\": query})"
      ]
    },
    {
      "cell_type": "code",
      "execution_count": 26,
      "metadata": {
        "colab": {
          "base_uri": "https://localhost:8080/",
          "height": 81
        },
        "id": "9Y7Q-KAF2oqA",
        "outputId": "c18aa4d3-f024-4890-de29-9ce5d7360460"
      },
      "outputs": [
        {
          "data": {
            "text/markdown": [
              "An agent is a system that independently accomplishes tasks on your behalf. Unlike conventional software that streamlines and automates workflows for users, agents can perform the same workflows on the user's behalf with a high degree of independence. \n",
              "\n",
              "Here are the core characteristics of an agent:\n",
              "\n",
              "*   **Leverages an LLM:** It uses a large language model to manage workflow execution and make decisions.\n",
              "*   **Workflow Management:** It recognizes when a workflow is complete and can proactively correct its actions if needed. In case of failure, it can halt execution and transfer control back to the user.\n",
              "*   **Tool Access:** It has access to various tools to interact with external systems, both to gather context and to take actions. It dynamically selects the appropriate tools based on the workflow's current state, always operating within clearly defined guardrails.\n",
              "\n",
              "In essence, agents are well-suited for workflows where traditional deterministic and rule-based approaches are insufficient."
            ],
            "text/plain": [
              "<IPython.core.display.Markdown object>"
            ]
          },
          "metadata": {},
          "output_type": "display_data"
        }
      ],
      "source": [
        "display(Markdown(response['generation']))"
      ]
    },
    {
      "cell_type": "code",
      "execution_count": 29,
      "metadata": {
        "colab": {
          "base_uri": "https://localhost:8080/"
        },
        "id": "aAm5ERMM2fFL",
        "outputId": "8b35c46d-a8bb-4d0a-986e-daa1b85818a5"
      },
      "outputs": [
        {
          "name": "stdout",
          "output_type": "stream",
          "text": [
            "---RETRIEVAL FROM VECTOR DB---\n",
            "---CHECK DOCUMENT RELEVANCE TO QUESTION---\n",
            "---GRADE: DOCUMENT NOT RELEVANT---\n",
            "---GRADE: DOCUMENT NOT RELEVANT---\n",
            "---GRADE: DOCUMENT NOT RELEVANT---\n",
            "---ASSESS GRADED DOCUMENTS---\n",
            "---DECISION: SOME or ALL DOCUMENTS ARE NOT RELEVANT TO QUESTION, REWRITE QUERY---\n",
            "---REWRITE QUERY---\n",
            "---WEB SEARCH---\n",
            "---GENERATE ANSWER---\n"
          ]
        }
      ],
      "source": [
        "query = \"what is CrewAI agent?\"\n",
        "response = agentic_rag.invoke({\"question\": query})"
      ]
    },
    {
      "cell_type": "code",
      "execution_count": 30,
      "metadata": {
        "colab": {
          "base_uri": "https://localhost:8080/",
          "height": 64
        },
        "id": "CTCcEfNx2w-5",
        "outputId": "8c758175-9d9d-4f01-c1d6-e6c79a216344"
      },
      "outputs": [
        {
          "data": {
            "text/markdown": [
              "CrewAI is a lean, lightning-fast Python framework built entirely from scratch, independent of LangChain or other agent frameworks. It empowers developers to create autonomous AI agents tailored to specific scenarios.\n",
              "\n",
              "In CrewAI, an `Agent` is an autonomous unit that can:\n",
              "\n",
              "*   Perform specific tasks\n",
              "*   Make decisions based on its role and goal\n",
              "*   Use tools to accomplish objectives\n",
              "*   Communicate and collaborate with other agents\n",
              "*   Maintain memory of interactions\n",
              "*   Delegate tasks when allowed\n",
              "\n",
              "An agent is a fundamental component designed to perform specific tasks within a multi-agent system."
            ],
            "text/plain": [
              "<IPython.core.display.Markdown object>"
            ]
          },
          "metadata": {},
          "output_type": "display_data"
        }
      ],
      "source": [
        "display(Markdown(response['generation']))"
      ]
    },
    {
      "cell_type": "code",
      "execution_count": 27,
      "metadata": {
        "colab": {
          "base_uri": "https://localhost:8080/"
        },
        "id": "0PH45g2E3Dta",
        "outputId": "f80076f2-2c27-4601-a264-66e6a62a91e0"
      },
      "outputs": [
        {
          "name": "stdout",
          "output_type": "stream",
          "text": [
            "---RETRIEVAL FROM VECTOR DB---\n",
            "---CHECK DOCUMENT RELEVANCE TO QUESTION---\n"
          ]
        },
        {
          "name": "stdout",
          "output_type": "stream",
          "text": [
            "---GRADE: DOCUMENT RELEVANT---\n",
            "---GRADE: DOCUMENT RELEVANT---\n",
            "---GRADE: DOCUMENT RELEVANT---\n",
            "---ASSESS GRADED DOCUMENTS---\n",
            "---DECISION: GENERATE RESPONSE---\n",
            "---GENERATE ANSWER---\n"
          ]
        }
      ],
      "source": [
        "query = \"what is orchestration?\"\n",
        "response = agentic_rag.invoke({\"question\": query})"
      ]
    },
    {
      "cell_type": "code",
      "execution_count": 28,
      "metadata": {
        "colab": {
          "base_uri": "https://localhost:8080/",
          "height": 407
        },
        "id": "Z6G7ywp53FrO",
        "outputId": "81b0bb00-77b2-4728-92d0-4d405dee7c13"
      },
      "outputs": [
        {
          "data": {
            "text/markdown": [
              "Orchestration refers to patterns in building applications, particularly in the context of AI agents, where workflow execution is managed. It involves coordinating multiple components, which can be single agents or a network of agents, to achieve a desired outcome. \n",
              "\n",
              "Here's a breakdown of the key aspects:\n",
              "\n",
              "*   **Single-agent systems:** A single model uses tools and instructions to execute workflows in a loop.\n",
              "*   **Multi-agent systems:** Workflow execution is distributed across multiple coordinated agents.\n",
              "*   **Manager pattern:** A central \"manager\" agent delegates tasks to specialized agents, ensuring a smooth and unified user experience.\n",
              "*   **Run:**  An orchestration approach typically uses a loop to allow agents to operate until an exit condition is met (e.g., tool calls, a specific output, errors).\n",
              "*   **Declarative vs. non-declarative graphs:** Some frameworks use graphs to define workflows, but this can become complex for dynamic workflows.\n",
              "\n",
              "In essence, orchestration provides a way to manage and coordinate the interactions of different parts of an application to accomplish complex tasks."
            ],
            "text/plain": [
              "<IPython.core.display.Markdown object>"
            ]
          },
          "metadata": {},
          "output_type": "display_data"
        }
      ],
      "source": [
        "display(Markdown(response['generation']))"
      ]
    }
  ],
  "metadata": {
    "colab": {
      "provenance": []
    },
    "kernelspec": {
      "display_name": "myenv",
      "language": "python",
      "name": "python3"
    },
    "language_info": {
      "codemirror_mode": {
        "name": "ipython",
        "version": 3
      },
      "file_extension": ".py",
      "mimetype": "text/x-python",
      "name": "python",
      "nbconvert_exporter": "python",
      "pygments_lexer": "ipython3",
      "version": "3.10.8"
    }
  },
  "nbformat": 4,
  "nbformat_minor": 0
}
